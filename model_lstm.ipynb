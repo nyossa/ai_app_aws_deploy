{
 "cells": [
  {
   "cell_type": "markdown",
   "metadata": {},
   "source": [
    "# LSTMでコロナ感染者数予測"
   ]
  },
  {
   "cell_type": "markdown",
   "metadata": {},
   "source": [
    "# import"
   ]
  },
  {
   "cell_type": "code",
   "execution_count": null,
   "metadata": {},
   "outputs": [],
   "source": [
    "import torch\n",
    "import numpy as np\n",
    "import math\n",
    "import matplotlib.pyplot as plt\n",
    "from IPython.display import Image\n",
    "import torch.nn as nn\n",
    "from sklearn import datasets\n",
    "from sklearn.preprocessing import StandardScaler#レンジに幅がある時に標準化する\n",
    "from sklearn.model_selection import train_test_split#トレーニングとテストデータを分けてかつシャッフルする\n",
    "import pandas as pd\n",
    "import torch.nn.functional as F#さまざまな活性化関数\n",
    "from torch.utils.data import Dataset, DataLoader#IrisDatasetでDatasetというモデルを継承しているが、これを使用出来るようにするため左記のimportが必要\n",
    "from torchvision import datasets,transforms #MNIST画像はpytorchで準備されてる。\n",
    "%matplotlib inline\n",
    "#%matplotlib inlineを指定した時の挙動\n",
    "#１）グラフがアウトプット行b（in line）に出力される。いちいちポップアップが出ない。\n",
    "#２）plt.show()を省略してもグラフが出力される。対話型実行環境やエディタでは、グラフの表示のためにplt.show()を実行する必要。\n",
    "#    →plt.show()を省略するとアウトプット行のグラフの上にオブジェクトの場所が出力される。"
   ]
  },
  {
   "cell_type": "markdown",
   "metadata": {},
   "source": [
    "# ライブラリのImport"
   ]
  },
  {
   "cell_type": "code",
   "execution_count": null,
   "metadata": {},
   "outputs": [],
   "source": [
    "import pandas as pd\n",
    "import matplotlib.pyplot as plt\n",
    "import torch\n",
    "import torch.nn as nn\n",
    "import numpy as np\n",
    "import pickle\n",
    "from model import LSTM_Corona\n",
    "#エラーが発生するのを防ぐためにLSTM_Coronaを外部のモジュールする。\n",
    "#  ・エラー内容：\n",
    "#  　jupyterでLSTMモデルクラスであるLSTM_Corona作成し学習後にpickle化して出力。\n",
    "#  　→streamlit.pyでpickleを読み込んで予測を行おうとしたら下記のエラーになった。\n",
    "#     「AttributeError ：Can't get attribute LSTM_Corona on <module  '__main__'  from 'streamlit.py'>」\n",
    "#       　→__main__モジュールにLSTM_Cornaがないと言われている。\n",
    "#         →jupyter上で__main__.LSTM_Cornaというクラスをpickle化したため＝jupyter上でLSTM_Cornaというクラスを作成したら__main__.LSTM_Cornaモジュールになる。\n",
    "#         →pythonコマンドで実行したファイルは、__main__モジュールとして扱われるため。\n",
    "#  ・解決方法：\n",
    "#      別途model.pyを作成しその中にLSTM_Coronaを記載する。そしてそれをjupyterファイルと同じ階層に置いて、jupyterファイル内でimportする。\n",
    "#       →そしてjupyterファイル内ではLSTM_Coronaを定義しないことにより__main__.LSTM_Cornaモジュールではなく、model.LSTM_Cornaモジュールになる。\n",
    "#       →その結果エラーが発生しなくなる。"
   ]
  },
  {
   "cell_type": "markdown",
   "metadata": {},
   "source": [
    "# データパス"
   ]
  },
  {
   "cell_type": "code",
   "execution_count": null,
   "metadata": {},
   "outputs": [],
   "source": [
    "covid19_data = './data/lstm/time_series_covid19_confirmed_global.csv'#RNNで使用するCOVID19データ"
   ]
  },
  {
   "cell_type": "markdown",
   "metadata": {},
   "source": [
    "# RNN_COVID19"
   ]
  },
  {
   "cell_type": "code",
   "execution_count": null,
   "metadata": {},
   "outputs": [],
   "source": [
    "from pandas.plotting import register_matplotlib_converters"
   ]
  },
  {
   "cell_type": "code",
   "execution_count": null,
   "metadata": {},
   "outputs": [],
   "source": [
    "df = pd.read_csv(covid19_data)\n",
    "df.head()\n",
    "#Province/State 州\n",
    "#Lat Long 緯度と軽度\n",
    "#上記以降は日ベースでの感染された数"
   ]
  },
  {
   "cell_type": "code",
   "execution_count": null,
   "metadata": {},
   "outputs": [],
   "source": [
    "#データの中で0で変化がないところを削る。またRegionなど文字情報も不要なので削る\n",
    "#最初の37列を削る。\n",
    "df = df.iloc[:,37:]\n",
    "df.head()"
   ]
  },
  {
   "cell_type": "code",
   "execution_count": null,
   "metadata": {},
   "outputs": [],
   "source": [
    "#行は278行（＝278カ国地域）。\n",
    "df"
   ]
  },
  {
   "cell_type": "code",
   "execution_count": null,
   "metadata": {},
   "outputs": [],
   "source": [
    "#日ベースごとに全世界を足して、各日ベースの世界全体の感染者数求める\n",
    "daily_global = df.sum(axis=0)\n",
    "daily_global"
   ]
  },
  {
   "cell_type": "code",
   "execution_count": null,
   "metadata": {},
   "outputs": [],
   "source": [
    "#日付の値をpandasのdatetimeに変換\n",
    "daily_global.index = pd.to_datetime(daily_global.index)\n",
    "daily_global"
   ]
  },
  {
   "cell_type": "code",
   "execution_count": null,
   "metadata": {
    "scrolled": true
   },
   "outputs": [],
   "source": [
    "plt.plot(daily_global)"
   ]
  },
  {
   "cell_type": "code",
   "execution_count": null,
   "metadata": {},
   "outputs": [],
   "source": [
    "#直近の30日をテストデータにして、3日より前をトレーニングデータにする。\n",
    "y=daily_global.values.astype(float)\n",
    "\n",
    "test_size = 30\n",
    "train_original_data = y[:-test_size]#最後の30日分を取り除いた、それより以前をトレーニングにする。\n",
    "test_original_data = y[-test_size:]"
   ]
  },
  {
   "cell_type": "code",
   "execution_count": null,
   "metadata": {},
   "outputs": [],
   "source": [
    "#入力のデータを正規化（-1〜0に収まるように変換）\n",
    "from sklearn.preprocessing import MinMaxScaler\n",
    "scaler = MinMaxScaler(feature_range=(-1,1))"
   ]
  },
  {
   "cell_type": "code",
   "execution_count": null,
   "metadata": {},
   "outputs": [],
   "source": [
    "#scalerをデータに適合させる\n",
    "#sklearnで使えるように１列になるようにデータ整える\n",
    "train_normalized = scaler.fit_transform(train_original_data.reshape(-1,1))\n",
    "train_normalized.shape"
   ]
  },
  {
   "cell_type": "code",
   "execution_count": null,
   "metadata": {},
   "outputs": [],
   "source": [
    "#Tensor型に変換\n",
    "train_normalized = torch.FloatTensor(train_normalized).view(-1)\n",
    "#１ヶ月分を予測するようにする。\n",
    "#そのためwindow_sizeを3から30に変更\n",
    "window_size = 30"
   ]
  },
  {
   "cell_type": "code",
   "execution_count": null,
   "metadata": {},
   "outputs": [],
   "source": [
    "def sequence_creator(input_data,window):\n",
    "    dataset = []\n",
    "    data_len = len(input_data)\n",
    "    for i in range(data_len - window):\n",
    "        window_fr = input_data[i:i+window]\n",
    "        label = input_data[i+window:i+window+1]\n",
    "        dataset.append((window_fr, label))\n",
    "    return dataset"
   ]
  },
  {
   "cell_type": "code",
   "execution_count": null,
   "metadata": {},
   "outputs": [],
   "source": [
    "print(len(train_normalized))"
   ]
  },
  {
   "cell_type": "code",
   "execution_count": null,
   "metadata": {},
   "outputs": [],
   "source": [
    "train_data = sequence_creator(train_normalized, window_size)#ラベル付けを自動でさせる"
   ]
  },
  {
   "cell_type": "code",
   "execution_count": null,
   "metadata": {},
   "outputs": [],
   "source": [
    "# train_data"
   ]
  },
  {
   "cell_type": "code",
   "execution_count": null,
   "metadata": {},
   "outputs": [],
   "source": [
    "# class LSTM_Corona(nn.Module):\n",
    "#     def __init__(self, in_size=1, h_size=30, out_size=1):\n",
    "#         super().__init__()\n",
    "#         self.h_size = h_size\n",
    "#         self.lstm = nn.LSTM(in_size,h_size)\n",
    "#         self.fc = nn.Linear(h_size,out_size)\n",
    "        \n",
    "#         self.hidden = (torch.zeros(1,1,h_size),torch.zeros(1,1,h_size))\n",
    "        \n",
    "#     def forward(self, sequence_data):\n",
    "#         #lstmを実行するときは3次元のサイズを指定する必要がある。\n",
    "#         #１つ目の引数＝1次元目＝データのサイズ（len(sequence_data)）＝今回は30個 = train_dataNの中は30\n",
    "#         #2つ目の引数＝2次元目＝バッチサイズ＝今回はバッチ化していないので1\n",
    "#         #3つ目の引数＝3次元目＝隠れ層のサイズ＝今回なら引数で指定した30。\n",
    "#         lstm_out, self.hidden = self.lstm(sequence_data.view(len(sequence_data),1,-1),self.hidden)\n",
    "#         pred=self.fc(lstm_out.view(len(sequence_data),-1))\n",
    "        \n",
    "#         return pred[-1]#欲しいのは最後のデータ"
   ]
  },
  {
   "cell_type": "code",
   "execution_count": null,
   "metadata": {},
   "outputs": [],
   "source": [
    "torch.manual_seed(3)\n",
    "model = LSTM_Corona()\n",
    "criterion = nn.MSELoss()#損失関数=平均二乗誤差。\n",
    "optimizer = torch.optim.Adam(model.parameters(),lr=0.001)#最適化関数"
   ]
  },
  {
   "cell_type": "code",
   "execution_count": null,
   "metadata": {
    "scrolled": true
   },
   "outputs": [],
   "source": [
    "epochs = 100\n",
    "\n",
    "for epoch in range(epochs):\n",
    "    for sequence_in, y_train in train_data:\n",
    "        \n",
    "        y_pred = model(sequence_in)\n",
    "        loss = criterion(y_pred, y_train)\n",
    "\n",
    "        optimizer.zero_grad()\n",
    "        model.hidden = (torch.zeros(1,1,model.h_size),torch.zeros(1,1,model.h_size))\n",
    "        \n",
    "        loss.backward()\n",
    "        optimizer.step()\n",
    "        \n",
    "    print(f'Epoech {epoch+1} Loss {loss.item():.3f}')"
   ]
  },
  {
   "cell_type": "code",
   "execution_count": null,
   "metadata": {},
   "outputs": [],
   "source": [
    "#１ヶ月分を予測するようにする。\n",
    "test = 30\n",
    "\n",
    "preds = train_normalized[-window_size:].tolist()\n",
    "\n",
    "#評価モード\n",
    "model.eval()\n",
    "\n",
    "for i in range(test):\n",
    "    sequence = torch.FloatTensor(preds[-window_size:])\n",
    "    with torch.no_grad():#勾配の計算を無効化\n",
    "        model.hidden = (torch.zeros(1,1,model.h_size), torch.zeros(1,1,model.h_size))#隠れ層リセット\n",
    "        preds.append(model(sequence).item())"
   ]
  },
  {
   "cell_type": "code",
   "execution_count": null,
   "metadata": {},
   "outputs": [],
   "source": [
    "#予測した値から正規化を解いてやる\n",
    "predictions = scaler.inverse_transform(np.array(preds[window_size:]).reshape(-1,1))\n",
    "predictions"
   ]
  },
  {
   "cell_type": "code",
   "execution_count": null,
   "metadata": {},
   "outputs": [],
   "source": [
    "#テストの値\n",
    "#１ヶ月分を予測するようにする。\n",
    "daily_global[-30:]\n",
    "#テストの値とpredictionsの値が比較的近い値になっている"
   ]
  },
  {
   "cell_type": "code",
   "execution_count": null,
   "metadata": {},
   "outputs": [],
   "source": [
    "#１ヶ月分を予測するようにする。\n",
    "x = np.arange('2021-11-14','2021-12-14', dtype='datetime64[D]').astype('datetime64[D]')\n",
    "x"
   ]
  },
  {
   "cell_type": "code",
   "execution_count": null,
   "metadata": {},
   "outputs": [],
   "source": [
    "plt.figure(figsize=(12,5))\n",
    "plt.grid(True)\n",
    "plt.plot(daily_global)#元データ表示\n",
    "plt.plot(x,predictions)#最後の3日だけ予測値重ね合わせる\n",
    "plt.show()"
   ]
  },
  {
   "cell_type": "code",
   "execution_count": null,
   "metadata": {},
   "outputs": [],
   "source": [
    "#未知のデータの予測\n",
    "epochs = 200\n",
    "model.train()#トレーニングモード：全てのデータでトレーニングする。\n",
    "\n",
    "y_normalized = scaler.fit_transform(y.reshape(-1,1))\n",
    "y_normalized = torch.FloatTensor(y_normalized).view(-1)\n",
    "full_data = sequence_creator(y_normalized, window_size)"
   ]
  },
  {
   "cell_type": "code",
   "execution_count": null,
   "metadata": {},
   "outputs": [],
   "source": [
    "for epoch in range(epochs):\n",
    "    for sequence_in, y_train in full_data:\n",
    "        \n",
    "        y_pred = model(sequence_in)\n",
    "        loss = criterion(y_pred, y_train)\n",
    "        \n",
    "        optimizer.zero_grad()\n",
    "        model.hidden = (torch.zeros(1,1,model.h_size),torch.zeros(1,1,model.h_size))\n",
    "        \n",
    "        loss.backward()\n",
    "        optimizer.step()\n",
    "        \n",
    "    print(f'Epoch {epoch+1} Loss{loss.item():.3f}')"
   ]
  },
  {
   "cell_type": "code",
   "execution_count": null,
   "metadata": {},
   "outputs": [],
   "source": [
    "#１ヶ月分を予測するようにする。\n",
    "future = 30\n",
    "\n",
    "preds = y_normalized[-window_size:].tolist()\n",
    "\n",
    "model.eval()#評価モード\n",
    "\n",
    "for i in range(future):\n",
    "    sequence = torch.FloatTensor(preds[-window_size:])\n",
    "    \n",
    "    with torch.no_grad():#勾配の計算の無効化\n",
    "        model.hidden =(torch.zeros(1,1,model.h_size),torch.zeros(1,1,model.h_size))#隠れ層NO無効化\n",
    "        preds.append(model(sequence).item())#その都度計算された予測値を格納\n",
    "        \n",
    "#予測値が正規化されてるので元のスケールに戻す。\n",
    "predictions = scaler.inverse_transform(np.array(preds).reshape(-1,1))\n",
    "\n",
    "#１ヶ月分を予測するようにする。\n",
    "#x = np.arange('2021-10-25','2021-11-24', dtype='datetime64[D]').astype('datetime64[D]')\n",
    "x = np.arange('2021-11-14','2021-12-14', dtype='datetime64[D]').astype('datetime64[D]')"
   ]
  },
  {
   "cell_type": "code",
   "execution_count": null,
   "metadata": {},
   "outputs": [],
   "source": [
    "print(predictions[window_size:].shape)"
   ]
  },
  {
   "cell_type": "code",
   "execution_count": null,
   "metadata": {},
   "outputs": [],
   "source": [
    "print(x.shape)"
   ]
  },
  {
   "cell_type": "code",
   "execution_count": null,
   "metadata": {},
   "outputs": [],
   "source": [
    "plt.figure(figsize=(12,5))\n",
    "plt.title('The number of person affected by Corona virus globally')\n",
    "plt.grid(True)\n",
    "plt.plot(daily_global)#オリジナルデータ\n",
    "plt.plot(x, predictions[window_size:])#予測値"
   ]
  },
  {
   "cell_type": "code",
   "execution_count": null,
   "metadata": {},
   "outputs": [],
   "source": [
    "with open(\"./model/lstm/lstm.pickle\", mode=\"wb\") as f:\n",
    "    pickle.dump(model, f)"
   ]
  },
  {
   "cell_type": "code",
   "execution_count": null,
   "metadata": {},
   "outputs": [],
   "source": [
    "with open(\"./model/lstm/lstm.pickle\", mode=\"rb\") as f2:\n",
    "    model1 = pickle.load(f2)"
   ]
  },
  {
   "cell_type": "code",
   "execution_count": null,
   "metadata": {},
   "outputs": [],
   "source": [
    "#pickle化したものを読み込んで再度予測。\n",
    "future = 30\n",
    "\n",
    "preds = y_normalized[-window_size:].tolist()\n",
    "\n",
    "model.eval()#評価モード\n",
    "\n",
    "for i in range(future):\n",
    "    sequence = torch.FloatTensor(preds[-window_size:])\n",
    "    \n",
    "    with torch.no_grad():#勾配の計算の無効化\n",
    "        model.hidden =(torch.zeros(1,1,model.h_size),torch.zeros(1,1,model.h_size))#隠れ層NO無効化\n",
    "        preds.append(model1(sequence).item())#その都度計算された予測値を格納\n",
    "        \n",
    "#予測値が正規化されてるので元のスケールに戻す。\n",
    "predictions = scaler.inverse_transform(np.array(preds).reshape(-1,1))\n",
    "\n",
    "#１ヶ月分を予測するようにする。\n",
    "x = np.arange('2021-11-14','2021-12-14', dtype='datetime64[D]').astype('datetime64[D]')\n",
    "#x = np.arange('2021-09-05','2021-09-25', dtype='datetime64[D]').astype('datetime64[D]')"
   ]
  },
  {
   "cell_type": "code",
   "execution_count": null,
   "metadata": {},
   "outputs": [],
   "source": [
    "plt.figure(figsize=(12,5))\n",
    "plt.title('The number of person affected by Corona virus globally')\n",
    "plt.grid(True)\n",
    "plt.plot(daily_global)#オリジナルデータ\n",
    "plt.plot(x, predictions[window_size:])#予測値"
   ]
  }
 ],
 "metadata": {
  "kernelspec": {
   "display_name": "Python 3 (ipykernel)",
   "language": "python",
   "name": "python3"
  },
  "language_info": {
   "codemirror_mode": {
    "name": "ipython",
    "version": 3
   },
   "file_extension": ".py",
   "mimetype": "text/x-python",
   "name": "python",
   "nbconvert_exporter": "python",
   "pygments_lexer": "ipython3",
   "version": "3.9.0"
  },
  "toc": {
   "base_numbering": 1,
   "nav_menu": {},
   "number_sections": true,
   "sideBar": true,
   "skip_h1_title": false,
   "title_cell": "Table of Contents",
   "title_sidebar": "Contents",
   "toc_cell": false,
   "toc_position": {
    "height": "640px",
    "left": "465px",
    "top": "614px",
    "width": "288px"
   },
   "toc_section_display": true,
   "toc_window_display": true
  }
 },
 "nbformat": 4,
 "nbformat_minor": 4
}
